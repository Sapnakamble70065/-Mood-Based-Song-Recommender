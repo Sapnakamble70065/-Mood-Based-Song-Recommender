{
  "nbformat": 4,
  "nbformat_minor": 0,
  "metadata": {
    "colab": {
      "provenance": []
    },
    "kernelspec": {
      "name": "python3",
      "display_name": "Python 3"
    },
    "language_info": {
      "name": "python"
    }
  },
  "cells": [
    {
      "cell_type": "code",
      "execution_count": 1,
      "metadata": {
        "id": "ktQgbcZTHzoE"
      },
      "outputs": [],
      "source": [
        "# Mood-Based Song Recommender (No Dataset Needed)\n",
        "\n"
      ]
    },
    {
      "cell_type": "code",
      "source": [
        "\n",
        "from textblob import TextBlob\n",
        "\n"
      ],
      "metadata": {
        "id": "t5_o6bF3H8qI"
      },
      "execution_count": 2,
      "outputs": []
    },
    {
      "cell_type": "code",
      "source": [
        "# Step 1: Input mood text\n",
        "user_input = input(\"How are you feeling today?\\n\")\n",
        "\n"
      ],
      "metadata": {
        "colab": {
          "base_uri": "https://localhost:8080/"
        },
        "id": "VLMnLDTiIAQw",
        "outputId": "9c633aaa-d44c-46d0-cca3-5c12b3bfd365"
      },
      "execution_count": 3,
      "outputs": [
        {
          "name": "stdout",
          "output_type": "stream",
          "text": [
            "How are you feeling today?\n",
            "Happy\n"
          ]
        }
      ]
    },
    {
      "cell_type": "code",
      "source": [
        "# Step 2: Sentiment analysis\n",
        "blob = TextBlob(user_input)\n",
        "polarity = blob.sentiment.polarity\n",
        "\n",
        "if polarity > 0.3:\n",
        "    mood = \"happy\"\n",
        "elif polarity < -0.3:\n",
        "    mood = \"sad\"\n",
        "else:\n",
        "    mood = \"neutral\"\n",
        "\n"
      ],
      "metadata": {
        "id": "jPZwOJhyIDxZ"
      },
      "execution_count": 4,
      "outputs": []
    },
    {
      "cell_type": "code",
      "source": [
        "# Step 3: Song suggestions (No dataset - predefined list)\n",
        "song_db = {\n",
        "    \"happy\": [\n",
        "        \"🎵 Happy – Pharrell Williams\",\n",
        "        \"🎵 Uptown Funk – Bruno Mars\",\n",
        "        \"🎵 Good Life – OneRepublic\"\n",
        "    ],\n",
        "    \"sad\": [\n",
        "        \"🎵 Someone Like You – Adele\",\n",
        "        \"🎵 Fix You – Coldplay\",\n",
        "        \"🎵 Let Her Go – Passenger\"\n",
        "    ],\n",
        "    \"neutral\": [\n",
        "        \"🎵 Let It Be – The Beatles\",\n",
        "        \"🎵 Counting Stars – OneRepublic\",\n",
        "        \"🎵 Sunflower – Post Malone\"\n",
        "    ]\n",
        "}\n",
        "\n"
      ],
      "metadata": {
        "id": "t1_G4vBtIGi2"
      },
      "execution_count": 5,
      "outputs": []
    },
    {
      "cell_type": "code",
      "source": [
        "# Step 4: Output\n",
        "print(f\"\\nDetected Mood: {mood.capitalize()}\")\n",
        "print(\"Recommended Songs:\")\n",
        "for song in song_db[mood]:\n",
        "    print(song)"
      ],
      "metadata": {
        "colab": {
          "base_uri": "https://localhost:8080/"
        },
        "id": "bdOJD5sGIKMt",
        "outputId": "5de6d009-e09c-48d5-82f2-97a8b43691ff"
      },
      "execution_count": 6,
      "outputs": [
        {
          "output_type": "stream",
          "name": "stdout",
          "text": [
            "\n",
            "Detected Mood: Happy\n",
            "Recommended Songs:\n",
            "🎵 Happy – Pharrell Williams\n",
            "🎵 Uptown Funk – Bruno Mars\n",
            "🎵 Good Life – OneRepublic\n"
          ]
        }
      ]
    }
  ]
}